{
 "cells": [
  {
   "cell_type": "code",
   "execution_count": 1,
   "metadata": {
    "collapsed": true
   },
   "outputs": [],
   "source": [
    "import pandas as pd\n",
    "from sklearn.datasets import make_blobs\n",
    "X, y = make_blobs(n_samples=100, n_features=20, centers=15, cluster_std=2.0, shuffle=True, random_state=0)\n",
    "variables = ['辛さ','重厚','スパイシー','果実味','コク','酸味','落ち着き','香り','華やか','ジューシー','熟成','透明感','シャープ','力強い','フレッシュ','渋み','苦味','樽','エキゾチック','粘性']\n",
    "name = list(map(str,[i for i in range(100)]))\n",
    "df = pd.DataFrame(X, columns=variables, index=name)"
   ]
  },
  {
   "cell_type": "code",
   "execution_count": 6,
   "metadata": {
    "collapsed": false
   },
   "outputs": [
    {
     "data": {
      "text/html": [
       "<div>\n",
       "<table border=\"1\" class=\"dataframe\">\n",
       "  <thead>\n",
       "    <tr style=\"text-align: right;\">\n",
       "      <th></th>\n",
       "      <th>辛さ</th>\n",
       "      <th>重厚</th>\n",
       "      <th>スパイシー</th>\n",
       "      <th>果実味</th>\n",
       "      <th>コク</th>\n",
       "      <th>酸味</th>\n",
       "      <th>落ち着き</th>\n",
       "      <th>香り</th>\n",
       "      <th>華やか</th>\n",
       "      <th>ジューシー</th>\n",
       "      <th>熟成</th>\n",
       "      <th>透明感</th>\n",
       "      <th>シャープ</th>\n",
       "      <th>力強い</th>\n",
       "      <th>フレッシュ</th>\n",
       "      <th>渋み</th>\n",
       "      <th>苦味</th>\n",
       "      <th>樽</th>\n",
       "      <th>エキゾチック</th>\n",
       "      <th>粘性</th>\n",
       "    </tr>\n",
       "  </thead>\n",
       "  <tbody>\n",
       "    <tr>\n",
       "      <th>0</th>\n",
       "      <td>-6.867455</td>\n",
       "      <td>-5.634108</td>\n",
       "      <td>-0.881840</td>\n",
       "      <td>-6.482588</td>\n",
       "      <td>-7.159777</td>\n",
       "      <td>-6.394668</td>\n",
       "      <td>2.528458</td>\n",
       "      <td>-9.883541</td>\n",
       "      <td>7.197917</td>\n",
       "      <td>-7.291906</td>\n",
       "      <td>7.651226</td>\n",
       "      <td>1.407066</td>\n",
       "      <td>12.381189</td>\n",
       "      <td>2.889084</td>\n",
       "      <td>3.602466</td>\n",
       "      <td>-6.967406</td>\n",
       "      <td>-2.833069</td>\n",
       "      <td>-5.861254</td>\n",
       "      <td>-5.390123</td>\n",
       "      <td>-13.294555</td>\n",
       "    </tr>\n",
       "    <tr>\n",
       "      <th>1</th>\n",
       "      <td>8.591997</td>\n",
       "      <td>-2.939312</td>\n",
       "      <td>-2.795689</td>\n",
       "      <td>8.441495</td>\n",
       "      <td>8.202073</td>\n",
       "      <td>5.035962</td>\n",
       "      <td>-9.551829</td>\n",
       "      <td>11.863202</td>\n",
       "      <td>1.391670</td>\n",
       "      <td>6.811569</td>\n",
       "      <td>-5.089919</td>\n",
       "      <td>7.814202</td>\n",
       "      <td>-7.849138</td>\n",
       "      <td>0.114050</td>\n",
       "      <td>-2.882001</td>\n",
       "      <td>7.194346</td>\n",
       "      <td>7.214782</td>\n",
       "      <td>2.017785</td>\n",
       "      <td>-0.986718</td>\n",
       "      <td>-7.536471</td>\n",
       "    </tr>\n",
       "    <tr>\n",
       "      <th>2</th>\n",
       "      <td>0.246883</td>\n",
       "      <td>4.617195</td>\n",
       "      <td>3.212311</td>\n",
       "      <td>1.596973</td>\n",
       "      <td>-3.055192</td>\n",
       "      <td>0.042299</td>\n",
       "      <td>1.480808</td>\n",
       "      <td>6.456562</td>\n",
       "      <td>7.968668</td>\n",
       "      <td>-3.373548</td>\n",
       "      <td>2.148362</td>\n",
       "      <td>-0.378050</td>\n",
       "      <td>0.401580</td>\n",
       "      <td>9.752649</td>\n",
       "      <td>-7.182365</td>\n",
       "      <td>-8.249872</td>\n",
       "      <td>-7.731935</td>\n",
       "      <td>7.332327</td>\n",
       "      <td>5.531771</td>\n",
       "      <td>7.722099</td>\n",
       "    </tr>\n",
       "    <tr>\n",
       "      <th>3</th>\n",
       "      <td>5.007082</td>\n",
       "      <td>2.136003</td>\n",
       "      <td>11.041768</td>\n",
       "      <td>2.046806</td>\n",
       "      <td>-2.076545</td>\n",
       "      <td>4.375675</td>\n",
       "      <td>-9.963064</td>\n",
       "      <td>-4.988563</td>\n",
       "      <td>5.988508</td>\n",
       "      <td>-2.123277</td>\n",
       "      <td>2.397892</td>\n",
       "      <td>-2.612181</td>\n",
       "      <td>-11.314279</td>\n",
       "      <td>-2.854946</td>\n",
       "      <td>-0.393441</td>\n",
       "      <td>-2.108009</td>\n",
       "      <td>4.656146</td>\n",
       "      <td>4.359952</td>\n",
       "      <td>0.764049</td>\n",
       "      <td>-3.800434</td>\n",
       "    </tr>\n",
       "    <tr>\n",
       "      <th>4</th>\n",
       "      <td>-4.010045</td>\n",
       "      <td>4.244966</td>\n",
       "      <td>6.905713</td>\n",
       "      <td>-5.643761</td>\n",
       "      <td>6.686582</td>\n",
       "      <td>0.799046</td>\n",
       "      <td>-0.418340</td>\n",
       "      <td>2.750262</td>\n",
       "      <td>0.286303</td>\n",
       "      <td>-1.123998</td>\n",
       "      <td>-2.514172</td>\n",
       "      <td>-6.296712</td>\n",
       "      <td>-8.434826</td>\n",
       "      <td>8.658997</td>\n",
       "      <td>4.817495</td>\n",
       "      <td>-0.434714</td>\n",
       "      <td>-4.773589</td>\n",
       "      <td>-6.092134</td>\n",
       "      <td>-10.631048</td>\n",
       "      <td>-0.215011</td>\n",
       "    </tr>\n",
       "  </tbody>\n",
       "</table>\n",
       "</div>"
      ],
      "text/plain": [
       "         辛さ        重厚      スパイシー       果実味        コク        酸味      落ち着き  \\\n",
       "0 -6.867455 -5.634108  -0.881840 -6.482588 -7.159777 -6.394668  2.528458   \n",
       "1  8.591997 -2.939312  -2.795689  8.441495  8.202073  5.035962 -9.551829   \n",
       "2  0.246883  4.617195   3.212311  1.596973 -3.055192  0.042299  1.480808   \n",
       "3  5.007082  2.136003  11.041768  2.046806 -2.076545  4.375675 -9.963064   \n",
       "4 -4.010045  4.244966   6.905713 -5.643761  6.686582  0.799046 -0.418340   \n",
       "\n",
       "          香り       華やか     ジューシー        熟成       透明感       シャープ       力強い  \\\n",
       "0  -9.883541  7.197917 -7.291906  7.651226  1.407066  12.381189  2.889084   \n",
       "1  11.863202  1.391670  6.811569 -5.089919  7.814202  -7.849138  0.114050   \n",
       "2   6.456562  7.968668 -3.373548  2.148362 -0.378050   0.401580  9.752649   \n",
       "3  -4.988563  5.988508 -2.123277  2.397892 -2.612181 -11.314279 -2.854946   \n",
       "4   2.750262  0.286303 -1.123998 -2.514172 -6.296712  -8.434826  8.658997   \n",
       "\n",
       "      フレッシュ        渋み        苦味         樽     エキゾチック         粘性  \n",
       "0  3.602466 -6.967406 -2.833069 -5.861254  -5.390123 -13.294555  \n",
       "1 -2.882001  7.194346  7.214782  2.017785  -0.986718  -7.536471  \n",
       "2 -7.182365 -8.249872 -7.731935  7.332327   5.531771   7.722099  \n",
       "3 -0.393441 -2.108009  4.656146  4.359952   0.764049  -3.800434  \n",
       "4  4.817495 -0.434714 -4.773589 -6.092134 -10.631048  -0.215011  "
      ]
     },
     "execution_count": 6,
     "metadata": {},
     "output_type": "execute_result"
    }
   ],
   "source": [
    "df.head()"
   ]
  },
  {
   "cell_type": "code",
   "execution_count": 8,
   "metadata": {
    "collapsed": false
   },
   "outputs": [
    {
     "name": "stdout",
     "output_type": "stream",
     "text": [
      "[1 0 1 0 1 0 1 0 0 0 0 0 0 0 1 0 0 1 1 1 1 0 0 0 0 1 0 1 0 0 1 0 0 0 1 0 1\n",
      " 1 0 0 0 1 1 1 0 1 0 1 1 1 1 0 0 1 1 1 0 1 0 0 1 1 0 0 1 0 0 0 1 0 0 0 1 0\n",
      " 1 1 1 1 1 0 0 1 1 0 0 1 1 1 0 0 1 0 0 0 0 1 1 1 0 0]\n"
     ]
    }
   ],
   "source": [
    "from sklearn.cluster import KMeans\n",
    "km = KMeans(n_clusters=2, init='random', n_init=10, max_iter=300, tol=1e-04, random_state=0)\n",
    "y_km = km.fit_predict(X)\n",
    "print(y_km)"
   ]
  },
  {
   "cell_type": "code",
   "execution_count": 25,
   "metadata": {
    "collapsed": false
   },
   "outputs": [
    {
     "data": {
      "image/png": "[encoded data removed]",
      "text/plain": [
       "<matplotlib.figure.Figure at 0x11aaf0fd0>"
      ]
     },
     "metadata": {},
     "output_type": "display_data"
    }
   ],
   "source": [
    "import matplotlib.pyplot as plt\n",
    "import numpy as np\n",
    "%matplotlib inline\n",
    "SSE = []\n",
    "for i in np.arange(2, 21):\n",
    "    km = KMeans(n_clusters=i, init='random', n_init=10, max_iter=300, tol=1e-04, random_state=0)\n",
    "    km.fit(X)\n",
    "    SSE.append(km.inertia_)\n",
    "\n",
    "plt.plot(np.arange(2,21), SSE, marker='o')\n",
    "plt.xlabel('k')\n",
    "plt.ylabel('SSE')\n",
    "plt.xticks(np.arange(2,21,1)) \n",
    "plt.show()"
   ]
  },
  {
   "cell_type": "code",
   "execution_count": 38,
   "metadata": {
    "collapsed": false
   },
   "outputs": [
    {
     "data": {
      "image/png": "[encoded data removed]",
      "text/plain": [
       "<matplotlib.figure.Figure at 0x11bf02630>"
      ]
     },
     "metadata": {},
     "output_type": "display_data"
    }
   ],
   "source": [
    "km = KMeans(n_clusters=14, init='random', n_init=10, max_iter=300, tol=1e-04, random_state=0)\n",
    "y_km = km.fit_predict(X)\n",
    "from matplotlib import cm\n",
    "from sklearn.metrics import silhouette_samples\n",
    "import numpy as np\n",
    "cluster_labels = np.unique(y_km)\n",
    "n_clusters = cluster_labels.shape[0]\n",
    "silhouette_vals = silhouette_samples(X, y_km, metric='euclidean')\n",
    "y_ax_lower, y_ax_upper = 0, 0\n",
    "yticks = []\n",
    "for i, c in enumerate(cluster_labels):\n",
    "    c_silhouette_vals = silhouette_vals[y_km == c]\n",
    "    c_silhouette_vals.sort()\n",
    "    y_ax_upper += len(c_silhouette_vals)\n",
    "    color = cm.jet(i / n_clusters)\n",
    "    plt.barh(range(y_ax_lower, y_ax_upper), c_silhouette_vals, height=1.0, edgecolor='none', color=color)\n",
    "    yticks.append((y_ax_lower + y_ax_upper) / 2)\n",
    "    y_ax_lower += len(c_silhouette_vals)\n",
    "\n",
    "silhouette_avg = np.mean(silhouette_vals)\n",
    "plt.axvline(silhouette_avg, color=\"red\", linestyle=\"--\")\n",
    "plt.yticks(yticks, cluster_labels + 1)\n",
    "plt.ylabel('Cluster')\n",
    "plt.xlabel('Silhouette coefficient')\n",
    "plt.show()"
   ]
  },
  {
   "cell_type": "markdown",
   "metadata": {
    "collapsed": true
   },
   "source": [
    "エルボ法により14種類に分けるのがいいと判断した。   \n",
    "また、シルエット分析においても14近傍の値よりも良い結果が得られた。"
   ]
  },
  {
   "cell_type": "code",
   "execution_count": null,
   "metadata": {
    "collapsed": true
   },
   "outputs": [],
   "source": []
  }
 ],
 "metadata": {
  "kernelspec": {
   "display_name": "Python 3",
   "language": "python",
   "name": "python3"
  },
  "language_info": {
   "codemirror_mode": {
    "name": "ipython",
    "version": 3
   },
   "file_extension": ".py",
   "mimetype": "text/x-python",
   "name": "python",
   "nbconvert_exporter": "python",
   "pygments_lexer": "ipython3",
   "version": "3.6.0"
  }
 },
 "nbformat": 4,
 "nbformat_minor": 2
}
