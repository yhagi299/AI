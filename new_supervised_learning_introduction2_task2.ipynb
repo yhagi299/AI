{
 "cells": [
  {
   "cell_type": "code",
   "execution_count": 2,
   "metadata": {
    "collapsed": true
   },
   "outputs": [],
   "source": [
    "from sklearn.datasets import load_boston\n",
    "import pandas as pd\n",
    "import matplotlib.pyplot as plt\n",
    "%matplotlib inline \n",
    "from sklearn.linear_model import LinearRegression\n",
    "from sklearn.preprocessing import PolynomialFeatures\n",
    "from sklearn.metrics import mean_squared_error\n",
    "import numpy as np"
   ]
  },
  {
   "cell_type": "code",
   "execution_count": 3,
   "metadata": {
    "collapsed": true
   },
   "outputs": [],
   "source": [
    "boston = load_boston()\n",
    "X=pd.DataFrame(boston.data[:100,:], columns=boston.feature_names)\n",
    "y=boston.target[:100]\n",
    "x=X['AGE'].values"
   ]
  },
  {
   "cell_type": "code",
   "execution_count": 4,
   "metadata": {
    "collapsed": false
   },
   "outputs": [
    {
     "name": "stdout",
     "output_type": "stream",
     "text": [
      "[-0.10368286]\n",
      "28.1413682478\n"
     ]
    }
   ],
   "source": [
    "#1次関数\n",
    "lin_1d = LinearRegression()\n",
    "lin_1d.fit(x[:,None],y)\n",
    "print(lin_1d.coef_)\n",
    "print(lin_1d.intercept_)"
   ]
  },
  {
   "cell_type": "code",
   "execution_count": 5,
   "metadata": {
    "collapsed": false
   },
   "outputs": [
    {
     "name": "stdout",
     "output_type": "stream",
     "text": [
      "[ 0.          0.12535185 -0.00209454]\n",
      "23.4509449306\n"
     ]
    }
   ],
   "source": [
    "#2次関数\n",
    "degree_2=PolynomialFeatures(degree=2)\n",
    "x_2=degree_2.fit_transform(x[:,None])\n",
    "lin_2d = LinearRegression()\n",
    "lin_2d.fit(x_2,y)\n",
    "print(lin_2d.coef_)\n",
    "print(lin_2d.intercept_)"
   ]
  },
  {
   "cell_type": "code",
   "execution_count": 6,
   "metadata": {
    "collapsed": false
   },
   "outputs": [
    {
     "name": "stdout",
     "output_type": "stream",
     "text": [
      "[  0.00000000e+00  -1.15561775e-01   3.50812212e-03  -3.56175826e-05]\n",
      "25.8351818608\n"
     ]
    }
   ],
   "source": [
    "#3次関数\n",
    "degree_3=PolynomialFeatures(degree=3)\n",
    "x_3=degree_3.fit_transform(x[:,None])\n",
    "lin_3d = LinearRegression()\n",
    "lin_3d.fit(x_3,y)\n",
    "print(lin_3d.coef_)\n",
    "print(lin_3d.intercept_)"
   ]
  },
  {
   "cell_type": "code",
   "execution_count": 7,
   "metadata": {
    "collapsed": false
   },
   "outputs": [
    {
     "name": "stdout",
     "output_type": "stream",
     "text": [
      "[  0.00000000e+00  -2.34145407e-01   8.37985150e-03  -1.07185705e-04\n",
      "   3.43443205e-07]\n",
      "26.537052513\n"
     ]
    }
   ],
   "source": [
    "#4次関数\n",
    "degree_4=PolynomialFeatures(degree=4)\n",
    "x_4=degree_4.fit_transform(x[:,None])\n",
    "lin_4d = LinearRegression()\n",
    "lin_4d.fit(x_4,y)\n",
    "print(lin_4d.coef_)\n",
    "print(lin_4d.intercept_)"
   ]
  },
  {
   "cell_type": "code",
   "execution_count": 11,
   "metadata": {
    "collapsed": false
   },
   "outputs": [
    {
     "data": {
      "text/plain": [
       "[]"
      ]
     },
     "execution_count": 11,
     "metadata": {},
     "output_type": "execute_result"
    },
    {
     "data": {
      "image/png": "[encoded data removed]",
      "text/plain": [
       "<matplotlib.figure.Figure at 0x113b6cba8>"
      ]
     },
     "metadata": {},
     "output_type": "display_data"
    }
   ],
   "source": [
    "#結果のプロット\n",
    "xt = np.linspace(np.min(x), np.max(x), num=100)\n",
    "\n",
    "y_1d_fit=lin_1d.predict(xt[:,np.newaxis])\n",
    "y_2d_fit=lin_2d.predict(degree_2.fit_transform(xt[:,np.newaxis]))\n",
    "y_3d_fit=lin_3d.predict(degree_3.fit_transform(xt[:,np.newaxis]))\n",
    "y_4d_fit=lin_4d.predict(degree_4.fit_transform(xt[:,np.newaxis]))\n",
    "\n",
    "plt.scatter(x,y,label='data')\n",
    "plt.plot(xt,y_1d_fit,'r',label='1d_lin')\n",
    "plt.plot(xt,y_2d_fit,'g',label='2d_lin')\n",
    "plt.plot(xt,y_3d_fit,'b',label='3d_lin')\n",
    "plt.plot(xt,y_4d_fit,'y',label='4d_lin')\n",
    "\n",
    "plt.ylim(10,40)\n",
    "plt.title(\"Boston House Price\")\n",
    "plt.xlabel(\"AGE\")\n",
    "plt.ylabel(\"price\")\n",
    "plt.legend()\n",
    "plt.plot()"
   ]
  },
  {
   "cell_type": "code",
   "execution_count": 12,
   "metadata": {
    "collapsed": false
   },
   "outputs": [
    {
     "data": {
      "text/plain": [
       "26.754508704139507"
      ]
     },
     "execution_count": 12,
     "metadata": {},
     "output_type": "execute_result"
    }
   ],
   "source": [
    "#1次関数の2乗和誤差\n",
    "mean_squared_error(y,lin_1d.predict(x[:,None]))"
   ]
  },
  {
   "cell_type": "code",
   "execution_count": 13,
   "metadata": {
    "collapsed": false
   },
   "outputs": [
    {
     "data": {
      "text/plain": [
       "24.397088136515954"
      ]
     },
     "execution_count": 13,
     "metadata": {},
     "output_type": "execute_result"
    }
   ],
   "source": [
    "#2次関数の2乗和誤差\n",
    "mean_squared_error(y,lin_2d.predict(x_2))"
   ]
  },
  {
   "cell_type": "code",
   "execution_count": 14,
   "metadata": {
    "collapsed": false
   },
   "outputs": [
    {
     "data": {
      "text/plain": [
       "23.978242199677435"
      ]
     },
     "execution_count": 14,
     "metadata": {},
     "output_type": "execute_result"
    }
   ],
   "source": [
    "#3次関数の2乗和誤差\n",
    "mean_squared_error(y,lin_3d.predict(x_3))"
   ]
  },
  {
   "cell_type": "code",
   "execution_count": 15,
   "metadata": {
    "collapsed": false
   },
   "outputs": [
    {
     "data": {
      "text/plain": [
       "23.95681697681929"
      ]
     },
     "execution_count": 15,
     "metadata": {},
     "output_type": "execute_result"
    }
   ],
   "source": [
    "#4次関数の2乗和誤差\n",
    "mean_squared_error(y,lin_4d.predict(x_4))"
   ]
  },
  {
   "cell_type": "code",
   "execution_count": null,
   "metadata": {
    "collapsed": true
   },
   "outputs": [],
   "source": []
  }
 ],
 "metadata": {
  "kernelspec": {
   "display_name": "Python 3",
   "language": "python",
   "name": "python3"
  },
  "language_info": {
   "codemirror_mode": {
    "name": "ipython",
    "version": 3
   },
   "file_extension": ".py",
   "mimetype": "text/x-python",
   "name": "python",
   "nbconvert_exporter": "python",
   "pygments_lexer": "ipython3",
   "version": "3.6.0"
  }
 },
 "nbformat": 4,
 "nbformat_minor": 2
}
