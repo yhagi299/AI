{
 "cells": [
  {
   "cell_type": "code",
   "execution_count": 43,
   "metadata": {
    "collapsed": true
   },
   "outputs": [],
   "source": [
    "import numpy as np\n",
    "import matplotlib.pyplot as plt\n",
    "from sklearn.datasets import load_boston\n",
    "from scipy.stats import zscore\n",
    "import pandas as pd\n",
    "from sklearn.linear_model import LinearRegression\n",
    "from sklearn.preprocessing import PolynomialFeatures\n",
    "from sklearn.model_selection import train_test_split\n",
    "from sklearn.metrics import mean_squared_error"
   ]
  },
  {
   "cell_type": "code",
   "execution_count": 44,
   "metadata": {
    "collapsed": false
   },
   "outputs": [],
   "source": [
    "data_train_input = pd.read_csv('train.csv')\n",
    "data_test_input = pd.read_csv('test.csv')"
   ]
  },
  {
   "cell_type": "code",
   "execution_count": 45,
   "metadata": {
    "collapsed": false,
    "scrolled": true
   },
   "outputs": [
    {
     "data": {
      "text/html": [
       "<div>\n",
       "<table border=\"1\" class=\"dataframe\">\n",
       "  <thead>\n",
       "    <tr style=\"text-align: right;\">\n",
       "      <th></th>\n",
       "      <th>PassengerId</th>\n",
       "      <th>Survived</th>\n",
       "      <th>Pclass</th>\n",
       "      <th>Name</th>\n",
       "      <th>Sex</th>\n",
       "      <th>Age</th>\n",
       "      <th>SibSp</th>\n",
       "      <th>Parch</th>\n",
       "      <th>Ticket</th>\n",
       "      <th>Fare</th>\n",
       "      <th>Cabin</th>\n",
       "      <th>Embarked</th>\n",
       "    </tr>\n",
       "  </thead>\n",
       "  <tbody>\n",
       "    <tr>\n",
       "      <th>684</th>\n",
       "      <td>685</td>\n",
       "      <td>0</td>\n",
       "      <td>2</td>\n",
       "      <td>Brown, Mr. Thomas William Solomon</td>\n",
       "      <td>male</td>\n",
       "      <td>60.0</td>\n",
       "      <td>1</td>\n",
       "      <td>1</td>\n",
       "      <td>29750</td>\n",
       "      <td>39.0000</td>\n",
       "      <td>NaN</td>\n",
       "      <td>S</td>\n",
       "    </tr>\n",
       "    <tr>\n",
       "      <th>559</th>\n",
       "      <td>560</td>\n",
       "      <td>1</td>\n",
       "      <td>3</td>\n",
       "      <td>de Messemaeker, Mrs. Guillaume Joseph (Emma)</td>\n",
       "      <td>female</td>\n",
       "      <td>36.0</td>\n",
       "      <td>1</td>\n",
       "      <td>0</td>\n",
       "      <td>345572</td>\n",
       "      <td>17.4000</td>\n",
       "      <td>NaN</td>\n",
       "      <td>S</td>\n",
       "    </tr>\n",
       "    <tr>\n",
       "      <th>629</th>\n",
       "      <td>630</td>\n",
       "      <td>0</td>\n",
       "      <td>3</td>\n",
       "      <td>O'Connell, Mr. Patrick D</td>\n",
       "      <td>male</td>\n",
       "      <td>NaN</td>\n",
       "      <td>0</td>\n",
       "      <td>0</td>\n",
       "      <td>334912</td>\n",
       "      <td>7.7333</td>\n",
       "      <td>NaN</td>\n",
       "      <td>Q</td>\n",
       "    </tr>\n",
       "    <tr>\n",
       "      <th>192</th>\n",
       "      <td>193</td>\n",
       "      <td>1</td>\n",
       "      <td>3</td>\n",
       "      <td>Andersen-Jensen, Miss. Carla Christine Nielsine</td>\n",
       "      <td>female</td>\n",
       "      <td>19.0</td>\n",
       "      <td>1</td>\n",
       "      <td>0</td>\n",
       "      <td>350046</td>\n",
       "      <td>7.8542</td>\n",
       "      <td>NaN</td>\n",
       "      <td>S</td>\n",
       "    </tr>\n",
       "    <tr>\n",
       "      <th>835</th>\n",
       "      <td>836</td>\n",
       "      <td>1</td>\n",
       "      <td>1</td>\n",
       "      <td>Compton, Miss. Sara Rebecca</td>\n",
       "      <td>female</td>\n",
       "      <td>39.0</td>\n",
       "      <td>1</td>\n",
       "      <td>1</td>\n",
       "      <td>PC 17756</td>\n",
       "      <td>83.1583</td>\n",
       "      <td>E49</td>\n",
       "      <td>C</td>\n",
       "    </tr>\n",
       "  </tbody>\n",
       "</table>\n",
       "</div>"
      ],
      "text/plain": [
       "     PassengerId  Survived  Pclass  \\\n",
       "684          685         0       2   \n",
       "559          560         1       3   \n",
       "629          630         0       3   \n",
       "192          193         1       3   \n",
       "835          836         1       1   \n",
       "\n",
       "                                                Name     Sex   Age  SibSp  \\\n",
       "684                Brown, Mr. Thomas William Solomon    male  60.0      1   \n",
       "559     de Messemaeker, Mrs. Guillaume Joseph (Emma)  female  36.0      1   \n",
       "629                         O'Connell, Mr. Patrick D    male   NaN      0   \n",
       "192  Andersen-Jensen, Miss. Carla Christine Nielsine  female  19.0      1   \n",
       "835                      Compton, Miss. Sara Rebecca  female  39.0      1   \n",
       "\n",
       "     Parch    Ticket     Fare Cabin Embarked  \n",
       "684      1     29750  39.0000   NaN        S  \n",
       "559      0    345572  17.4000   NaN        S  \n",
       "629      0    334912   7.7333   NaN        Q  \n",
       "192      0    350046   7.8542   NaN        S  \n",
       "835      1  PC 17756  83.1583   E49        C  "
      ]
     },
     "execution_count": 45,
     "metadata": {},
     "output_type": "execute_result"
    }
   ],
   "source": [
    "data_train_input.sample(n=5,replace=True, random_state=0, axis=0)"
   ]
  },
  {
   "cell_type": "markdown",
   "metadata": {
    "collapsed": true
   },
   "source": [
    "前処理について記述せよ  \n",
    "以下の観点をすべて含めて記述しましょう。  \n",
    "前処理とは何か  \n",
    "なぜ前処理を行う必要があるのか  \n",
    "前処理は具体的に何を行うか(3つ以上記述せよ)  \n",
    "前述した具体的な前処理について、その前処理を行うと何を得ることができるか(記述したそれぞれの前処理例について記述せよ)  \n",
    "【回答】  \n",
    "未加工のデータは、多くの場合、ノイズが多く、信頼性が低く、値が欠落している可能性もあります。  \n",
    "そのため学習前に前処理をする必要がある。  \n",
    "１．欠損値の処理  \n",
    "　　欠損値を平均値等で補完することにより説明変数として利用できる。  \n",
    "２．文字列の処理（数値に変換）  \n",
    "　　文字列を数値に置き換えることにより説明変数として利用できるようにする。  \n",
    "３．外れ値の処理  \n",
    "　　外れ値を削除することにより予測精度を向上させることが可能。  \n"
   ]
  },
  {
   "cell_type": "markdown",
   "metadata": {
    "collapsed": true
   },
   "source": [
    "前処理について記述せよ  \n",
    "前処理について記述せよの調査により、データを確認する際にどのような点を見るとよいか、3つ以上記述せよ。  \n",
    "【回答】  \n",
    "１．欠損値があるかどうか  \n",
    "２．文字列が含まれているかどうか  \n",
    "３．平均値と最大値/最小値を確認して、平均値よりはるかに大きい最大値/最小値が含まれていないか確認（グラフ化して見る）  \n",
    "　　"
   ]
  },
  {
   "cell_type": "code",
   "execution_count": 46,
   "metadata": {
    "collapsed": false
   },
   "outputs": [
    {
     "data": {
      "text/html": [
       "<div>\n",
       "<table border=\"1\" class=\"dataframe\">\n",
       "  <thead>\n",
       "    <tr style=\"text-align: right;\">\n",
       "      <th></th>\n",
       "      <th>PassengerId</th>\n",
       "      <th>Survived</th>\n",
       "      <th>Pclass</th>\n",
       "      <th>Sex</th>\n",
       "      <th>Age</th>\n",
       "      <th>SibSp</th>\n",
       "      <th>Parch</th>\n",
       "      <th>Fare</th>\n",
       "      <th>Cabin</th>\n",
       "      <th>Lname</th>\n",
       "      <th>NamePrefix</th>\n",
       "    </tr>\n",
       "  </thead>\n",
       "  <tbody>\n",
       "    <tr>\n",
       "      <th>0</th>\n",
       "      <td>1</td>\n",
       "      <td>0</td>\n",
       "      <td>3</td>\n",
       "      <td>male</td>\n",
       "      <td>Student</td>\n",
       "      <td>1</td>\n",
       "      <td>0</td>\n",
       "      <td>1_quartile</td>\n",
       "      <td>N</td>\n",
       "      <td>Braund,</td>\n",
       "      <td>Mr.</td>\n",
       "    </tr>\n",
       "    <tr>\n",
       "      <th>1</th>\n",
       "      <td>2</td>\n",
       "      <td>1</td>\n",
       "      <td>1</td>\n",
       "      <td>female</td>\n",
       "      <td>Adult</td>\n",
       "      <td>1</td>\n",
       "      <td>0</td>\n",
       "      <td>4_quartile</td>\n",
       "      <td>C</td>\n",
       "      <td>Cumings,</td>\n",
       "      <td>Mrs.</td>\n",
       "    </tr>\n",
       "    <tr>\n",
       "      <th>2</th>\n",
       "      <td>3</td>\n",
       "      <td>1</td>\n",
       "      <td>3</td>\n",
       "      <td>female</td>\n",
       "      <td>Young Adult</td>\n",
       "      <td>0</td>\n",
       "      <td>0</td>\n",
       "      <td>1_quartile</td>\n",
       "      <td>N</td>\n",
       "      <td>Heikkinen,</td>\n",
       "      <td>Miss.</td>\n",
       "    </tr>\n",
       "    <tr>\n",
       "      <th>3</th>\n",
       "      <td>4</td>\n",
       "      <td>1</td>\n",
       "      <td>1</td>\n",
       "      <td>female</td>\n",
       "      <td>Young Adult</td>\n",
       "      <td>1</td>\n",
       "      <td>0</td>\n",
       "      <td>4_quartile</td>\n",
       "      <td>C</td>\n",
       "      <td>Futrelle,</td>\n",
       "      <td>Mrs.</td>\n",
       "    </tr>\n",
       "    <tr>\n",
       "      <th>4</th>\n",
       "      <td>5</td>\n",
       "      <td>0</td>\n",
       "      <td>3</td>\n",
       "      <td>male</td>\n",
       "      <td>Young Adult</td>\n",
       "      <td>0</td>\n",
       "      <td>0</td>\n",
       "      <td>2_quartile</td>\n",
       "      <td>N</td>\n",
       "      <td>Allen,</td>\n",
       "      <td>Mr.</td>\n",
       "    </tr>\n",
       "  </tbody>\n",
       "</table>\n",
       "</div>"
      ],
      "text/plain": [
       "   PassengerId  Survived  Pclass     Sex          Age  SibSp  Parch  \\\n",
       "0            1         0       3    male      Student      1      0   \n",
       "1            2         1       1  female        Adult      1      0   \n",
       "2            3         1       3  female  Young Adult      0      0   \n",
       "3            4         1       1  female  Young Adult      1      0   \n",
       "4            5         0       3    male  Young Adult      0      0   \n",
       "\n",
       "         Fare Cabin       Lname NamePrefix  \n",
       "0  1_quartile     N     Braund,        Mr.  \n",
       "1  4_quartile     C    Cumings,       Mrs.  \n",
       "2  1_quartile     N  Heikkinen,      Miss.  \n",
       "3  4_quartile     C   Futrelle,       Mrs.  \n",
       "4  2_quartile     N      Allen,        Mr.  "
      ]
     },
     "execution_count": 46,
     "metadata": {},
     "output_type": "execute_result"
    }
   ],
   "source": [
    "def simplify_ages(df):\n",
    "    df.Age = df.Age.fillna(-0.5)\n",
    "    bins = (-1, 0, 5, 12, 18, 25, 35, 60, 120)\n",
    "    group_names = ['Unknown', 'Baby', 'Child', 'Teenager', 'Student', 'Young Adult', 'Adult', 'Senior']\n",
    "    categories = pd.cut(df.Age, bins, labels=group_names)\n",
    "    df.Age = categories\n",
    "    return df\n",
    "\n",
    "def simplify_cabins(df):\n",
    "    df.Cabin = df.Cabin.fillna('N')\n",
    "    df.Cabin = df.Cabin.apply(lambda x: x[0])\n",
    "    return df\n",
    "\n",
    "def simplify_fares(df):\n",
    "    df.Fare = df.Fare.fillna(-0.5)\n",
    "    bins = (-1, 0, 8, 15, 31, 1000)\n",
    "    group_names = ['Unknown', '1_quartile', '2_quartile', '3_quartile', '4_quartile']\n",
    "    categories = pd.cut(df.Fare, bins, labels=group_names)\n",
    "    df.Fare = categories\n",
    "    return df\n",
    "\n",
    "def format_name(df):\n",
    "    df['Lname'] = df.Name.apply(lambda x: x.split(' ')[0])\n",
    "    df['NamePrefix'] = df.Name.apply(lambda x: x.split(' ')[1])\n",
    "    return df    \n",
    "\n",
    "def drop_features(df):\n",
    "    return df.drop(['Ticket', 'Name', 'Embarked'], axis=1)\n",
    "\n",
    "def transform_features(df):\n",
    "    df = simplify_ages(df)\n",
    "    df = simplify_cabins(df)\n",
    "    df = simplify_fares(df)\n",
    "    df = format_name(df)\n",
    "    df = drop_features(df)\n",
    "    return df\n",
    "\n",
    "data_train = transform_features(data_train_input)\n",
    "data_test = transform_features(data_test_input)\n",
    "data_train.head()"
   ]
  },
  {
   "cell_type": "code",
   "execution_count": 47,
   "metadata": {
    "collapsed": false
   },
   "outputs": [
    {
     "data": {
      "text/html": [
       "<div>\n",
       "<table border=\"1\" class=\"dataframe\">\n",
       "  <thead>\n",
       "    <tr style=\"text-align: right;\">\n",
       "      <th></th>\n",
       "      <th>PassengerId</th>\n",
       "      <th>Survived</th>\n",
       "      <th>Pclass</th>\n",
       "      <th>Sex</th>\n",
       "      <th>Age</th>\n",
       "      <th>SibSp</th>\n",
       "      <th>Parch</th>\n",
       "      <th>Fare</th>\n",
       "      <th>Cabin</th>\n",
       "      <th>Lname</th>\n",
       "      <th>NamePrefix</th>\n",
       "    </tr>\n",
       "  </thead>\n",
       "  <tbody>\n",
       "    <tr>\n",
       "      <th>0</th>\n",
       "      <td>1</td>\n",
       "      <td>0</td>\n",
       "      <td>3</td>\n",
       "      <td>1</td>\n",
       "      <td>4</td>\n",
       "      <td>1</td>\n",
       "      <td>0</td>\n",
       "      <td>0</td>\n",
       "      <td>7</td>\n",
       "      <td>100</td>\n",
       "      <td>19</td>\n",
       "    </tr>\n",
       "    <tr>\n",
       "      <th>1</th>\n",
       "      <td>2</td>\n",
       "      <td>1</td>\n",
       "      <td>1</td>\n",
       "      <td>0</td>\n",
       "      <td>0</td>\n",
       "      <td>1</td>\n",
       "      <td>0</td>\n",
       "      <td>3</td>\n",
       "      <td>2</td>\n",
       "      <td>182</td>\n",
       "      <td>20</td>\n",
       "    </tr>\n",
       "    <tr>\n",
       "      <th>2</th>\n",
       "      <td>3</td>\n",
       "      <td>1</td>\n",
       "      <td>3</td>\n",
       "      <td>0</td>\n",
       "      <td>7</td>\n",
       "      <td>0</td>\n",
       "      <td>0</td>\n",
       "      <td>0</td>\n",
       "      <td>7</td>\n",
       "      <td>329</td>\n",
       "      <td>16</td>\n",
       "    </tr>\n",
       "    <tr>\n",
       "      <th>3</th>\n",
       "      <td>4</td>\n",
       "      <td>1</td>\n",
       "      <td>1</td>\n",
       "      <td>0</td>\n",
       "      <td>7</td>\n",
       "      <td>1</td>\n",
       "      <td>0</td>\n",
       "      <td>3</td>\n",
       "      <td>2</td>\n",
       "      <td>267</td>\n",
       "      <td>20</td>\n",
       "    </tr>\n",
       "    <tr>\n",
       "      <th>4</th>\n",
       "      <td>5</td>\n",
       "      <td>0</td>\n",
       "      <td>3</td>\n",
       "      <td>1</td>\n",
       "      <td>7</td>\n",
       "      <td>0</td>\n",
       "      <td>0</td>\n",
       "      <td>1</td>\n",
       "      <td>7</td>\n",
       "      <td>15</td>\n",
       "      <td>19</td>\n",
       "    </tr>\n",
       "  </tbody>\n",
       "</table>\n",
       "</div>"
      ],
      "text/plain": [
       "   PassengerId  Survived  Pclass  Sex  Age  SibSp  Parch  Fare  Cabin  Lname  \\\n",
       "0            1         0       3    1    4      1      0     0      7    100   \n",
       "1            2         1       1    0    0      1      0     3      2    182   \n",
       "2            3         1       3    0    7      0      0     0      7    329   \n",
       "3            4         1       1    0    7      1      0     3      2    267   \n",
       "4            5         0       3    1    7      0      0     1      7     15   \n",
       "\n",
       "   NamePrefix  \n",
       "0          19  \n",
       "1          20  \n",
       "2          16  \n",
       "3          20  \n",
       "4          19  "
      ]
     },
     "execution_count": 47,
     "metadata": {},
     "output_type": "execute_result"
    }
   ],
   "source": [
    "from sklearn import preprocessing\n",
    "def encode_features(df_train, df_test):\n",
    "    features = ['Fare', 'Cabin', 'Age', 'Sex', 'Lname', 'NamePrefix']\n",
    "    df_combined = pd.concat([df_train[features], df_test[features]])\n",
    "\n",
    "    for feature in features:\n",
    "        le = preprocessing.LabelEncoder()\n",
    "        le = le.fit(df_combined[feature])\n",
    "        df_train[feature] = le.transform(df_train[feature])\n",
    "        df_test[feature] = le.transform(df_test[feature])\n",
    "    return df_train, df_test\n",
    "\n",
    "data_train, data_test = encode_features(data_train, data_test)\n",
    "data_train.head()"
   ]
  },
  {
   "cell_type": "markdown",
   "metadata": {
    "collapsed": true
   },
   "source": [
    "前処理の内容について記述せよ  \n",
    "以下の観点をすべて含めて記述しましょう。  \n",
    "simplify_ages  \n",
    "simplify_cabins  \n",
    "simplify_fares  \n",
    "format_name  \n",
    "drop_features  \n",
    "encode_features  \n",
    "以上のメソッドがそれぞれ何を行っているか記述せよ  \n",
    "それぞれなぜそのようなことを行っているか記述せよ(それによって得られるメリットまで考察すること)  \n",
    "【回答】   \n",
    "simplify_ages:  \n",
    "年齢の範囲により８つのグループに分ける。年齢が不明の場合はunknowとする。    \n",
    "年齢そのものを使うよりグループにした方が解析をしやすい。  \n",
    "simplify_cabins:  \n",
    "NaNをNで穴埋め、NaN以外を頭文字のみにする。  \n",
    "欠損値が多いため使えそうにないためが単純な文字に置き換えて後で使えるかどうか判断する。  \n",
    "simplify_fares：  \n",
    "料金の範囲により５つのグループに分ける。料金が不明の場合unknowとする。\n",
    "料金そのものを使うよりグループにした方が解析をしやすい。  \n",
    "format_name：  \n",
    "新しい列を２つ追加し、それぞれ苗字と敬称を抜き出して追加。  \n",
    "家族関係、年齢の解析に使用するため。  \n",
    "drop_features：  \n",
    "指定した列の削除。\n",
    "関連があまりなさそうなので削除した。  \n",
    "encode_features：  \n",
    "カテゴリカルデータを、数値に変換。  \n",
    "数値データに変換することにより解析できるようにする。  "
   ]
  },
  {
   "cell_type": "markdown",
   "metadata": {},
   "source": [
    "モデル選択について記述せよ  \n",
    "今回使用するモデルは決定していますが、モデル選択をする際の演習を行いましょう。  \n",
    "今回は、生存予測（分類）を行いますが、この分類について使用できそうな手法を4つ以上しらべて記述せよ。  \n",
    "その手法の概要をそれぞれ記述せよ  \n",
    "その手法の長所/短所をそれぞれ3つずつ、記述したすべての手法において記述せよ  \n",
    "【回答】  \n",
    "\n",
    "【ランダムフォレスト】  \n",
    "決定木による複数の弱学習器を統合させて汎化能力を向上させる、アンサンブル学習アルゴリズム。  \n",
    "「長所」  \n",
    "・特徴量のスケーリングが必要ない。  \n",
    "・ノイズに強い。  \n",
    "・データ量が多くても高速。  \n",
    "・どの特徴量が重要かを知ることができる。  \n",
    "「短所」  \n",
    "・説明変数が多くなる。  \n",
    "・過学習になる。  \n",
    "・データと変数が少なすぎると、うまく学習できない。  \n",
    "  \n",
    "【k近傍法】  \n",
    "学習データをベクトル空間上にプロットしておき、未知のデータが得られたら、そこから距離が近い順に任意のK個を取得し、  \n",
    "多数決でデータが属するクラスを推定する。  \n",
    "「長所」  \n",
    "・データ全体ではなく、一部のデータだけを使うので、YとXの関係を数式で表す事ができなくても、確からしい推測ができる。  \n",
    "・局所的な推測に、有利。  \n",
    "・データ全体を使わないので、 外れ値の影響を受けにくい。  \n",
    "「短所」  \n",
    "・kの選び方で、結果が変わるので、結果の妥当性の評価が難しい。  \n",
    "・Xの広い領域では、Yに大きな幅があるけれども、狭い領域では幅が小さい時に威力を発揮しやすい方法。  \n",
    "　狭い領域でも幅が大きい時は、推測値の妥当性がなくなる。  \n",
    "・分類のたびに訓練事例全体を走査するため，分類に必要な計算量は大きい。  \n",
    "\n",
    "【サポートベクターマシーン】  \n",
    "広く利用されている強力な学習アルゴリズムの一つ。パーセプトロンの拡張とみなすことができる。  \n",
    "SVMでの最適化の目的はマージンを最大化すること。  \n",
    "「長所」  \n",
    "・データの特徴の次元が大きくなっても識別精度が良い。  \n",
    "・最適化すべきパラメータが少ない。  \n",
    "・パラメータの算出が容易。  \n",
    "「短所」   \n",
    "・学習が非常に非効率なことです。  \n",
    "・学習データが増えると計算が膨大になる。  \n",
    "・基本的には２クラスの分類にしか使えない。  \n",
    "  \n",
    "【勾配ブースティング】  \n",
    "逐次的に弱学習器を構築していく手法。逐次的というのは，弱学習器を1つずつ順番に構築していくという意味。  \n",
    "新しい弱学習器を構築する際に，それまでに構築されたすべての弱学習器の結果を利用する。  \n",
    "「長所」  \n",
    "・教師あり学習の中で最も強力。  \n",
    "・モデルの占めるメモリが小さく、予測も早い。  \n",
    "・浅い決定木のような、簡単なモデル（弱学習機）で構成。  \n",
    "「短所」  \n",
    "・計算を並列化できない。  \n",
    "・パラメータチューニングに細心の注意が必要。  \n",
    "・訓練にかかる時間が長い。  "
   ]
  },
  {
   "cell_type": "markdown",
   "metadata": {
    "collapsed": true
   },
   "source": [
    "モデル選択の基準  \n",
    "下記の参考資料を元に、どのような視点からモデルを選択すれば良いか、最低でも3つ以上の視点を記述すること  \n",
    "(他の参考資料でも構わない、その場合参考資料を明記すること)  \n",
    "【回答】   \n",
    "1.精度  \n",
    "　正確な回答を得ることが常に必要であるとは限らない。  \n",
    "　より大まかな方法を使用することで、処理時間を大幅に削減できる。  \n",
    "2.トレーニング時間  \n",
    "　トレーニング時間は精度と密接に関係しいる。  \n",
    "　時間が限られている場合、アルゴリズムの選択を左右することがある。  \n",
    "3.パラメーターの数  \n",
    "　パラメーター数の多いアルゴリズムは、適切な組み合わせを見つけるのに多くの試行錯誤が必要。  "
   ]
  },
  {
   "cell_type": "code",
   "execution_count": 48,
   "metadata": {
    "collapsed": true
   },
   "outputs": [],
   "source": [
    "import matplotlib.pyplot as plt\n",
    "import seaborn as sns\n",
    "%matplotlib inline"
   ]
  },
  {
   "cell_type": "code",
   "execution_count": 49,
   "metadata": {
    "collapsed": false
   },
   "outputs": [
    {
     "data": {
      "image/png": "[encoded data removed]",
      "text/plain": [
       "<matplotlib.figure.Figure at 0x11eceefd0>"
      ]
     },
     "metadata": {},
     "output_type": "display_data"
    }
   ],
   "source": [
    "sns.barplot(x=\"Age\", y=\"Survived\", hue=\"Sex\", data=data_train);"
   ]
  },
  {
   "cell_type": "code",
   "execution_count": 50,
   "metadata": {
    "collapsed": false
   },
   "outputs": [
    {
     "data": {
      "image/png": "[encoded data removed]",
      "text/plain": [
       "<matplotlib.figure.Figure at 0x11f1f6a58>"
      ]
     },
     "metadata": {},
     "output_type": "display_data"
    }
   ],
   "source": [
    "sns.pointplot(x=\"Pclass\", y=\"Survived\", hue=\"Sex\", data=data_train, \n",
    "              palette=\"Set2\",\n",
    "              markers=[\"*\", \"o\"], linestyles=[\"-\", \"--\"]);"
   ]
  },
  {
   "cell_type": "markdown",
   "metadata": {
    "collapsed": true
   },
   "source": [
    "データ可視化の結果について考察せよ  \n",
    "以下の観点をすべて含めて記述しましょう。  \n",
    "上記の２つの可視化から分かったことについて考察せよ。  \n",
    "上記の考察結果から、モデル選択を考える場合、どのようなことが考えられるか  \n",
    "【回答】  \n",
    "・Teenager以上では男性より女性の方が亡くなっている。  \n",
    "・Childでは男性の方が多く亡くなっている。  \n",
    "・Babyでは男性も女性も同じくらい亡くなっている。  \n",
    "・女性の場合、乗客の階級が3の人より亡くなっている。  \n",
    "・男性の場合、乗客の階級が２、３の人より亡くなっている。\n",
    "\n",
    "精度を高く、因果関係（中身のわかりやすさ）がわかるように予測したい。"
   ]
  },
  {
   "cell_type": "code",
   "execution_count": 51,
   "metadata": {
    "collapsed": false
   },
   "outputs": [
    {
     "name": "stdout",
     "output_type": "stream",
     "text": [
      "(712, 9)\n",
      "(179, 9)\n",
      "(712,)\n",
      "(179,)\n"
     ]
    }
   ],
   "source": [
    "from sklearn.model_selection import train_test_split\n",
    "\n",
    "X = data_train.drop(['Survived', 'PassengerId'], axis=1)\n",
    "y = data_train['Survived']\n",
    "\n",
    "X_train, X_test, y_train, y_test = train_test_split(X, y, test_size=0.2, random_state=0)\n",
    "print(X_train.shape)\n",
    "print(X_test.shape)\n",
    "print(y_train.shape)\n",
    "print(y_test.shape)"
   ]
  },
  {
   "cell_type": "markdown",
   "metadata": {
    "collapsed": true
   },
   "source": [
    "ランダムフォレストについて記述せよ  \n",
    "今回は、ランダムフォレストという手法を使用します。  \n",
    "以下の観点をすべて含めて記述しましょう。  \n",
    "決定木とはどのような手法か  \n",
    "ランダムフォレストとはどのような手法か  \n",
    "ランダムフォレストの長所と短所をそれぞれ3つ以上挙げてください。  \n",
    "今回の目的からランダムフォレストの手法が適する理由を考察し、記述せよ  \n",
    "※決定木とランダムフォレストについては、前述のモデル選択について記述せよにおいて記述していた場合、同じものを記述しても構いません。  \n",
    "【回答】  \n",
    "  \n",
    "【決定木】    \n",
    "「長所」  \n",
    "・可読性が高い。  \n",
    "・データ分布の型を問わない。  \n",
    "・外れ値に対して頑健。  \n",
    "「短所」  \n",
    "・分類性能が高い手法ではない。  \n",
    "・木が過度に分岐することが多い。  \n",
    "・データが少し変わるだけで全く違う木が生成されることがある。  \n",
    "・線形性のあるデータには適していない。  \n",
    "・XORの分類はできない。  \n",
    "  \n",
    "【ランダムフォレスト】  \n",
    "決定木による複数の弱学習器を統合させて汎化能力を向上させる、アンサンブル学習アルゴリズム。  \n",
    "「長所」  \n",
    "・特徴量のスケーリングが必要ない。  \n",
    "・ノイズに強い。  \n",
    "・データ量が多くても高速。  \n",
    "・どの特徴量が重要かを知ることができる。  \n",
    "「短所」  \n",
    "・説明変数が多くなる。  \n",
    "・過学習になる。  \n",
    "・データと変数が少なすぎると、うまく学習できない。  \n"
   ]
  },
  {
   "cell_type": "code",
   "execution_count": 52,
   "metadata": {
    "collapsed": false
   },
   "outputs": [
    {
     "data": {
      "text/plain": [
       "RandomForestClassifier(bootstrap=True, class_weight=None, criterion='gini',\n",
       "            max_depth=None, max_features='auto', max_leaf_nodes=None,\n",
       "            min_impurity_split=1e-07, min_samples_leaf=1,\n",
       "            min_samples_split=2, min_weight_fraction_leaf=0.0,\n",
       "            n_estimators=10, n_jobs=1, oob_score=False, random_state=None,\n",
       "            verbose=0, warm_start=False)"
      ]
     },
     "execution_count": 52,
     "metadata": {},
     "output_type": "execute_result"
    }
   ],
   "source": [
    "from sklearn.ensemble import RandomForestClassifier\n",
    "clf = RandomForestClassifier()\n",
    "clf.fit(X_train, y_train)"
   ]
  },
  {
   "cell_type": "code",
   "execution_count": 53,
   "metadata": {
    "collapsed": false
   },
   "outputs": [
    {
     "name": "stdout",
     "output_type": "stream",
     "text": [
      "0.810055865922\n"
     ]
    }
   ],
   "source": [
    "from sklearn.metrics import accuracy_score\n",
    "predictions = clf.predict(X_test)\n",
    "print(accuracy_score(y_test, predictions))"
   ]
  },
  {
   "cell_type": "markdown",
   "metadata": {
    "collapsed": true
   },
   "source": [
    "ハイパーパラメータについて  \n",
    "ハイパーパラメーターとは何か  \n",
    "ランダムフォレストにおいてどのようなハイパーパラメーターがあるか4つ以上記述せよ  \n",
    "記述したハイパーパラメーターにおいて、それぞれどのような値が存在するか記述せよ  \n",
    "（そのハイパーパラメーターを変化させるとどのようなことが起きるかも記述すること）  \n",
    "【回答】  \n",
    "n_estimators:整数を指定。バギングに用いる決定木の個数を指定。  \n",
    "criterion:文字列を指定。\"gini\"、\"entropy\" を指定できる。決定木はこの指標を基準にデータを分割する。  \n",
    "max_features:整数，小数，文字列または None を指定。最適な分割をするために考慮するフィーチャーの数を指定。  \n",
    "max_depth: 整数または None を指定。決定木の深さの最大値を指定。過学習を避けるためにはこれを調節するのが最も重要。"
   ]
  },
  {
   "cell_type": "code",
   "execution_count": 54,
   "metadata": {
    "collapsed": true
   },
   "outputs": [],
   "source": [
    "#'n_estimators': [4, 6, 9],\n",
    "#'max_features': ['log2', 'sqrt','auto'],\n",
    "#'criterion': ['entropy', 'gini'],\n",
    "#'max_depth': [2, 3, 5, 10],\n",
    "#'min_samples_split': [2, 3, 5],\n",
    "#'min_samples_leaf': [1,5,8]"
   ]
  },
  {
   "cell_type": "markdown",
   "metadata": {
    "collapsed": true
   },
   "source": [
    "検証について記述せよ  \n",
    "機械学習で思うようなAccuracyを求めることができたら、検証を行いましょう。  \n",
    "以下の観点をすべて含めて記述しましょう。  \n",
    "検証は何か  \n",
    "なぜ検証を行う必要があるのか(Accuracyだけではダメな理由も含めること)  \n",
    "主な検証方法について2つ以上記述せよ  \n",
    "【回答】  \n",
    "汎化能力を確認するためにモデルの学習に使用するデータを学習データ (Train Data)、検証に使用するデータをテストデータ (Test Data)を用いて検証を行う。学習データのみに対する精度だけを見てモデルの評価をしてしまうと学習データを使用した時は精度は良いがたのデータでは精度が悪い\n",
    "かもしれない。そのためテストデータできちんと汎化能力を確認する必要がある。\n",
    "\n",
    "1.ホールドアウト法\n",
    "ある割合で今持っている教師ありデータを、「訓練データ」と「テストデータ」に分割し学習と評価を行う。\n",
    "2.ブートストラップ法\n",
    "データ全体NNから重複を許すサンプリングN∗N∗を何度か行い評価する。"
   ]
  },
  {
   "cell_type": "markdown",
   "metadata": {
    "collapsed": true
   },
   "source": [
    "KFoldについて記述せよ  \n",
    "今回はKFold(K-分割交差検証)を使用して、検証を行います。  \n",
    "以下の観点をすべて含めて記述しましょう。  \n",
    "K-分割交差検証について説明せよ  \n",
    "K-分割交差検証はデータセットを何個に分割するか  \n",
    "データセットを分割する際、その個数はどのように考えると良いか  \n",
    "K-分割交差検証は何回の検証を行うか  \n",
    "K-分割交差検証の結果は、最終的にどのように求められるか  \n",
    "【回答】  \n",
    "K-分割交差検証では、サンプルをK個に分割する。  \n",
    "そして、そのうちの1つをテスト用とし、残る K − 1 個を訓練用とする。  \n",
    "交差検証は、K 個に分割されたサンプルをそれぞれをテストとして k 回検証を行う。  \n",
    "そうやって得られた k 回の結果を平均して1つの推定を得る。  \n"
   ]
  },
  {
   "cell_type": "code",
   "execution_count": 63,
   "metadata": {
    "collapsed": false
   },
   "outputs": [
    {
     "name": "stdout",
     "output_type": "stream",
     "text": [
      "0.803632958801\n"
     ]
    }
   ],
   "source": [
    "from sklearn.model_selection import KFold\n",
    "kf = KFold(n_splits=10, shuffle=False, random_state=0)\n",
    "scores = []\n",
    "for train_index, test_index in kf.split(X):\n",
    "    X_train, X_test = X.values[train_index], X.values[test_index]\n",
    "    y_train, y_test = y.values[train_index], y.values[test_index]\n",
    "    clf.fit(X_train, y_train)\n",
    "    predictions = clf.predict(X_test)\n",
    "    score = accuracy_score(y_test, predictions)\n",
    "    scores.append(score)\n",
    "print(np.mean(scores))"
   ]
  },
  {
   "cell_type": "markdown",
   "metadata": {
    "collapsed": true
   },
   "source": [
    "どの特徴量が重要であったかを調査する  \n",
    "sklearnでランダムフォレストを実装すると用意にどのどの特徴量が重要であったかを判明させることができます。  \n",
    "\n",
    "feature_importances_メソッドを使用して、判明させましょう。  "
   ]
  },
  {
   "cell_type": "code",
   "execution_count": 65,
   "metadata": {
    "collapsed": false
   },
   "outputs": [
    {
     "data": {
      "text/plain": [
       "array([ 0.06870554,  0.16142127,  0.09052951,  0.0525001 ,  0.03497017,\n",
       "        0.05654388,  0.07034008,  0.30316814,  0.16182131])"
      ]
     },
     "execution_count": 65,
     "metadata": {},
     "output_type": "execute_result"
    }
   ],
   "source": [
    "clf.feature_importances_"
   ]
  },
  {
   "cell_type": "code",
   "execution_count": null,
   "metadata": {
    "collapsed": true
   },
   "outputs": [],
   "source": []
  }
 ],
 "metadata": {
  "kernelspec": {
   "display_name": "Python 3",
   "language": "python",
   "name": "python3"
  },
  "language_info": {
   "codemirror_mode": {
    "name": "ipython",
    "version": 3
   },
   "file_extension": ".py",
   "mimetype": "text/x-python",
   "name": "python",
   "nbconvert_exporter": "python",
   "pygments_lexer": "ipython3",
   "version": "3.6.0"
  }
 },
 "nbformat": 4,
 "nbformat_minor": 2
}
