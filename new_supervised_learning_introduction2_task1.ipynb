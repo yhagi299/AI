{
 "cells": [
  {
   "cell_type": "code",
   "execution_count": 1,
   "metadata": {
    "collapsed": true
   },
   "outputs": [],
   "source": [
    "from sklearn.datasets import load_boston\n",
    "import pandas as pd\n",
    "import matplotlib.pyplot as plt\n",
    "%matplotlib inline \n",
    "from sklearn.linear_model import LinearRegression\n",
    "from sklearn.preprocessing import PolynomialFeatures\n",
    "from sklearn.metrics import mean_squared_error\n",
    "import numpy as np"
   ]
  },
  {
   "cell_type": "code",
   "execution_count": 22,
   "metadata": {
    "collapsed": false
   },
   "outputs": [],
   "source": [
    "boston = load_boston()\n",
    "X=pd.DataFrame(boston.data[:100,:], columns=boston.feature_names)\n",
    "y=boston.target[:100]\n",
    "x=X['LSTAT'].values"
   ]
  },
  {
   "cell_type": "code",
   "execution_count": 29,
   "metadata": {
    "collapsed": false
   },
   "outputs": [
    {
     "name": "stdout",
     "output_type": "stream",
     "text": [
      "[-0.77363763]\n",
      "30.6433208387\n"
     ]
    }
   ],
   "source": [
    "#1次関数\n",
    "lin_1d = LinearRegression()\n",
    "lin_1d.fit(x[:,None],y)\n",
    "print(lin_1d.coef_)\n",
    "print(lin_1d.intercept_)"
   ]
  },
  {
   "cell_type": "code",
   "execution_count": 32,
   "metadata": {
    "collapsed": false
   },
   "outputs": [
    {
     "name": "stdout",
     "output_type": "stream",
     "text": [
      "[ 0.         -2.06400124  0.04503031]\n",
      "37.8698496177\n"
     ]
    }
   ],
   "source": [
    "#2次関数\n",
    "degree_2=PolynomialFeatures(degree=2)\n",
    "x_2=degree_2.fit_transform(x[:,None])\n",
    "lin_2d = LinearRegression()\n",
    "lin_2d.fit(x_2,y)\n",
    "print(lin_2d.coef_)\n",
    "print(lin_2d.intercept_)"
   ]
  },
  {
   "cell_type": "code",
   "execution_count": 33,
   "metadata": {
    "collapsed": false
   },
   "outputs": [
    {
     "name": "stdout",
     "output_type": "stream",
     "text": [
      "[  0.00000000e+00  -3.70237593e+00   1.68452866e-01  -2.59532358e-03]\n",
      "43.7623822347\n"
     ]
    }
   ],
   "source": [
    "#3次関数\n",
    "degree_3=PolynomialFeatures(degree=3)\n",
    "x_3=degree_3.fit_transform(x[:,None])\n",
    "lin_3d = LinearRegression()\n",
    "lin_3d.fit(x_3,y)\n",
    "print(lin_3d.coef_)\n",
    "print(lin_3d.intercept_)"
   ]
  },
  {
   "cell_type": "code",
   "execution_count": 34,
   "metadata": {
    "collapsed": false
   },
   "outputs": [
    {
     "name": "stdout",
     "output_type": "stream",
     "text": [
      "[  0.00000000e+00  -6.62286638e+00   5.39213841e-01  -2.05647363e-02\n",
      "   2.86831559e-04]\n",
      "50.9951500331\n"
     ]
    }
   ],
   "source": [
    "#4次関数\n",
    "degree_4=PolynomialFeatures(degree=4)\n",
    "x_4=degree_4.fit_transform(x[:,None])\n",
    "lin_4d = LinearRegression()\n",
    "lin_4d.fit(x_4,y)\n",
    "print(lin_4d.coef_)\n",
    "print(lin_4d.intercept_)"
   ]
  },
  {
   "cell_type": "code",
   "execution_count": 48,
   "metadata": {
    "collapsed": false
   },
   "outputs": [
    {
     "data": {
      "text/plain": [
       "[]"
      ]
     },
     "execution_count": 48,
     "metadata": {},
     "output_type": "execute_result"
    },
    {
     "data": {
      "image/png": "[encoded data removed]",
      "text/plain": [
       "<matplotlib.figure.Figure at 0x1150877f0>"
      ]
     },
     "metadata": {},
     "output_type": "display_data"
    }
   ],
   "source": [
    "#結果のプロット\n",
    "xt = np.linspace(np.min(x), np.max(x), num=100)\n",
    "\n",
    "y_1d_fit=lin_1d.predict(xt[:,np.newaxis])\n",
    "y_2d_fit=lin_2d.predict(degree_2.fit_transform(xt[:,np.newaxis]))\n",
    "y_3d_fit=lin_3d.predict(degree_3.fit_transform(xt[:,np.newaxis]))\n",
    "y_4d_fit=lin_4d.predict(degree_4.fit_transform(xt[:,np.newaxis]))\n",
    "\n",
    "plt.scatter(x,y,label='data')\n",
    "plt.plot(xt,y_1d_fit,'r',label='1d_lin')\n",
    "plt.plot(xt,y_2d_fit,'g',label='2d_lin')\n",
    "plt.plot(xt,y_3d_fit,'b',label='3d_lin')\n",
    "plt.plot(xt,y_4d_fit,'y',label='4d_lin')\n",
    "\n",
    "plt.ylim(10,40)\n",
    "plt.title(\"Boston House Price\")\n",
    "plt.xlabel(\"LSTAT\")\n",
    "plt.ylabel(\"price\")\n",
    "plt.legend()\n",
    "plt.plot()"
   ]
  },
  {
   "cell_type": "code",
   "execution_count": 49,
   "metadata": {
    "collapsed": false
   },
   "outputs": [
    {
     "data": {
      "text/plain": [
       "15.537906007479371"
      ]
     },
     "execution_count": 49,
     "metadata": {},
     "output_type": "execute_result"
    }
   ],
   "source": [
    "#1次関数の2乗和誤差\n",
    "mean_squared_error(y,lin_1d.predict(x[:,None]))"
   ]
  },
  {
   "cell_type": "code",
   "execution_count": 50,
   "metadata": {
    "collapsed": false
   },
   "outputs": [
    {
     "data": {
      "text/plain": [
       "10.920226905348915"
      ]
     },
     "execution_count": 50,
     "metadata": {},
     "output_type": "execute_result"
    }
   ],
   "source": [
    "#2次関数の2乗和誤差\n",
    "mean_squared_error(y,lin_2d.predict(x_2))"
   ]
  },
  {
   "cell_type": "code",
   "execution_count": 51,
   "metadata": {
    "collapsed": false
   },
   "outputs": [
    {
     "data": {
      "text/plain": [
       "10.055225709746381"
      ]
     },
     "execution_count": 51,
     "metadata": {},
     "output_type": "execute_result"
    }
   ],
   "source": [
    "#3次関数の2乗和誤差\n",
    "mean_squared_error(y,lin_3d.predict(x_3))"
   ]
  },
  {
   "cell_type": "code",
   "execution_count": 52,
   "metadata": {
    "collapsed": false
   },
   "outputs": [
    {
     "data": {
      "text/plain": [
       "9.6173907154166862"
      ]
     },
     "execution_count": 52,
     "metadata": {},
     "output_type": "execute_result"
    }
   ],
   "source": [
    "#4次関数の2乗和誤差\n",
    "mean_squared_error(y,lin_4d.predict(x_4))"
   ]
  },
  {
   "cell_type": "code",
   "execution_count": null,
   "metadata": {
    "collapsed": true
   },
   "outputs": [],
   "source": []
  }
 ],
 "metadata": {
  "kernelspec": {
   "display_name": "Python 3",
   "language": "python",
   "name": "python3"
  },
  "language_info": {
   "codemirror_mode": {
    "name": "ipython",
    "version": 3
   },
   "file_extension": ".py",
   "mimetype": "text/x-python",
   "name": "python",
   "nbconvert_exporter": "python",
   "pygments_lexer": "ipython3",
   "version": "3.6.0"
  }
 },
 "nbformat": 4,
 "nbformat_minor": 2
}
