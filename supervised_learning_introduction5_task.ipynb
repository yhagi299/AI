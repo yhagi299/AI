{
 "cells": [
  {
   "cell_type": "code",
   "execution_count": 112,
   "metadata": {
    "collapsed": true
   },
   "outputs": [],
   "source": [
    "import pandas as pd\n",
    "import numpy as np"
   ]
  },
  {
   "cell_type": "code",
   "execution_count": 113,
   "metadata": {
    "collapsed": false
   },
   "outputs": [],
   "source": [
    "excel = pd.ExcelFile('Folds5x2_pp.xlsx')\n",
    "df = pd.DataFrame()\n",
    "\n",
    "for sheet in excel.sheet_names:\n",
    "    sheetdf = excel.parse(sheetname=sheet,skiprows=0)\n",
    "    df = pd.concat([df, sheetdf])"
   ]
  },
  {
   "cell_type": "code",
   "execution_count": 114,
   "metadata": {
    "collapsed": false
   },
   "outputs": [
    {
     "data": {
      "text/html": [
       "<div>\n",
       "<table border=\"1\" class=\"dataframe\">\n",
       "  <thead>\n",
       "    <tr style=\"text-align: right;\">\n",
       "      <th></th>\n",
       "      <th>AT</th>\n",
       "      <th>V</th>\n",
       "      <th>AP</th>\n",
       "      <th>RH</th>\n",
       "      <th>PE</th>\n",
       "    </tr>\n",
       "  </thead>\n",
       "  <tbody>\n",
       "    <tr>\n",
       "      <th>0</th>\n",
       "      <td>14.96</td>\n",
       "      <td>41.76</td>\n",
       "      <td>1024.07</td>\n",
       "      <td>73.17</td>\n",
       "      <td>463.26</td>\n",
       "    </tr>\n",
       "    <tr>\n",
       "      <th>1</th>\n",
       "      <td>25.18</td>\n",
       "      <td>62.96</td>\n",
       "      <td>1020.04</td>\n",
       "      <td>59.08</td>\n",
       "      <td>444.37</td>\n",
       "    </tr>\n",
       "    <tr>\n",
       "      <th>2</th>\n",
       "      <td>5.11</td>\n",
       "      <td>39.40</td>\n",
       "      <td>1012.16</td>\n",
       "      <td>92.14</td>\n",
       "      <td>488.56</td>\n",
       "    </tr>\n",
       "    <tr>\n",
       "      <th>3</th>\n",
       "      <td>20.86</td>\n",
       "      <td>57.32</td>\n",
       "      <td>1010.24</td>\n",
       "      <td>76.64</td>\n",
       "      <td>446.48</td>\n",
       "    </tr>\n",
       "    <tr>\n",
       "      <th>4</th>\n",
       "      <td>10.82</td>\n",
       "      <td>37.50</td>\n",
       "      <td>1009.23</td>\n",
       "      <td>96.62</td>\n",
       "      <td>473.90</td>\n",
       "    </tr>\n",
       "  </tbody>\n",
       "</table>\n",
       "</div>"
      ],
      "text/plain": [
       "      AT      V       AP     RH      PE\n",
       "0  14.96  41.76  1024.07  73.17  463.26\n",
       "1  25.18  62.96  1020.04  59.08  444.37\n",
       "2   5.11  39.40  1012.16  92.14  488.56\n",
       "3  20.86  57.32  1010.24  76.64  446.48\n",
       "4  10.82  37.50  1009.23  96.62  473.90"
      ]
     },
     "execution_count": 114,
     "metadata": {},
     "output_type": "execute_result"
    }
   ],
   "source": [
    "#df.head()\n",
    "df.head()"
   ]
  },
  {
   "cell_type": "code",
   "execution_count": 115,
   "metadata": {
    "collapsed": false
   },
   "outputs": [
    {
     "name": "stdout",
     "output_type": "stream",
     "text": [
      "[  4.00000000e+00   1.00000000e-02   1.91037132e+01]\n"
     ]
    }
   ],
   "source": [
    "from sklearn import cross_validation\n",
    "from sklearn.linear_model import Ridge\n",
    "from sklearn.preprocessing import PolynomialFeatures\n",
    "\n",
    "from sklearn.metrics import mean_squared_error\n",
    "\n",
    "x = df.iloc[:,0:4]\n",
    "y = df.iloc[:,4]\n",
    "\n",
    "np.random.seed(0)\n",
    "indices = np.random.permutation(len(df))\n",
    "X = x.iloc[indices]\n",
    "y = y.iloc[indices]\n",
    "n_fold = 10 # 交差検定の回数\n",
    "k_fold = cross_validation.KFold(n=len(df),n_folds = n_fold)\n",
    "\n",
    "dim=np.arange(1,21)\n",
    "lambda_=[1e-2,1e-1,5e-1,1,10,20,30,40,50,60,70,80,90,100]\n",
    "\n",
    "i = 0\n",
    "L=len(dim)*len(lambda_)\n",
    "score = np.zeros((L,3))\n",
    "tmp=[]\n",
    "for d in dim:\n",
    "    degree_=PolynomialFeatures(degree=d, interaction_only=True)\n",
    "    #print(d)\n",
    "    for l in lambda_:\n",
    "        lin_ = Ridge(normalize=True,alpha=l)\n",
    "        for train, test in k_fold:\n",
    "            x_=degree_.fit_transform(X.iloc[train])\n",
    "            x_test=degree_.fit_transform(X.iloc[test])\n",
    "            lin_.fit(x_,y.iloc[train])\n",
    "\n",
    "            tmp.append(mean_squared_error(y.iloc[test],lin_.predict(x_test)))\n",
    "\n",
    "        score[i,0] = d\n",
    "        score[i,1] = l\n",
    "        score[i,2] = sum(tmp) / len(tmp)\n",
    "        i+=1\n",
    "        tmp=[]\n",
    "        \n",
    "print(score[np.argmin(score[:,-1])])"
   ]
  }
 ],
 "metadata": {
  "kernelspec": {
   "display_name": "Python 3",
   "language": "python",
   "name": "python3"
  },
  "language_info": {
   "codemirror_mode": {
    "name": "ipython",
    "version": 3
   },
   "file_extension": ".py",
   "mimetype": "text/x-python",
   "name": "python",
   "nbconvert_exporter": "python",
   "pygments_lexer": "ipython3",
   "version": "3.6.0"
  }
 },
 "nbformat": 4,
 "nbformat_minor": 2
}
